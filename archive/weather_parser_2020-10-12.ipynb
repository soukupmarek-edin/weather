{
 "cells": [
  {
   "cell_type": "code",
   "execution_count": 1,
   "metadata": {},
   "outputs": [],
   "source": [
    "# !pip install selenium\n",
    "# !pip install dateparser\n",
    "\n",
    "import datetime\n",
    "import datetime as dt\n",
    "from datetime import timedelta\n",
    "import dateparser\n",
    "\n",
    "import pandas as pd\n",
    "import numpy as np\n",
    "\n",
    "from selenium import webdriver\n",
    "from selenium import common\n",
    "from selenium.webdriver.common.keys import Keys\n",
    "import time"
   ]
  },
  {
   "cell_type": "markdown",
   "metadata": {},
   "source": [
    "# parser class"
   ]
  },
  {
   "cell_type": "code",
   "execution_count": 26,
   "metadata": {},
   "outputs": [],
   "source": [
    "class Weather_parser:\n",
    "    \n",
    "    def __init__(self, date_start=None, date_end=datetime.date.today(), number_of_dates=None, current_data_df=None):\n",
    "        \"\"\"\n",
    "        date_start: datetime.date\n",
    "        date_end: datetime.date\n",
    "        number_of_dates: int\n",
    "        current_data_df: pd.DateFrame, columns = ['Station', 'Date', 'Hour'] + variables\n",
    "        \"\"\"\n",
    "        self.date_start = date_start\n",
    "        self.date_end = date_end\n",
    "        self.current_data_df = current_data_df\n",
    "        self.exceptions = {}\n",
    "        \n",
    "        if self.date_start and (self.date_start > self.date_end):\n",
    "            raise Exception('Start cannot exceed end')\n",
    "        \n",
    "        if self.current_data_df is not None:\n",
    "            # last date\n",
    "            (day, month, year) = self.current_data_df.Date.values[-1].split('.')\n",
    "            self.date_start = datetime.date(int(year), int(month), int(day)+1)\n",
    "            self.number_of_dates = (self.date_end - self.date_start).days + 1\n",
    "        \n",
    "        elif number_of_dates is None:\n",
    "            self.number_of_dates = (self.date_end - self.date_start).days + 1\n",
    "        else:\n",
    "            self.number_of_dates = number_of_dates + 1\n",
    "            \n",
    "        self.find_target_dates()\n",
    "        \n",
    "    def to_datestring(self, date):\n",
    "        return f\"{date.day}.{date.month}.{date.year}\"\n",
    "\n",
    "    def from_datestring(self, datestring):\n",
    "        return dateparser.parse(datestring).date()\n",
    "    \n",
    "    def find_target_dates(self):\n",
    "        self.dates = [self.to_datestring(self.date_start + timedelta(days=i)) for i in range(self.number_of_dates)]\n",
    "    \n",
    "    def set_date(self, date_string):\n",
    "        cal = self.wd.find_element_by_xpath('//*[@id=\"calender_archive\"]')\n",
    "        for _ in range(20):\n",
    "            cal.send_keys(Keys.BACKSPACE)\n",
    "        time.sleep(0.01)\n",
    "        cal.send_keys(date_string)\n",
    "        time.sleep(0.01)\n",
    "        select_button = self.wd.find_element_by_xpath('//*[@id=\"toScreenMenu\"]/form/table/tbody/tr/td[5]/div/div')\n",
    "        select_button.click()\n",
    "        time.sleep(0.05)\n",
    "        \n",
    "    def crawl_hour(self, source, date, hour):\n",
    "            row = [source, date, 26-hour]\n",
    "            for (varname, varnum) in variables:\n",
    "                try:\n",
    "                    if hour==2:\n",
    "                        other_val = self.wd.find_element_by_xpath(f'//*[@id=\"archiveTable\"]/tbody/tr[{hour}]/td[{varnum+1}]/div[1]').text\n",
    "                    else:\n",
    "                        other_val = self.wd.find_element_by_xpath(f'//*[@id=\"archiveTable\"]/tbody/tr[{hour}]/td[{varnum}]/div[1]').text\n",
    "                    row.append(other_val)\n",
    "                    \n",
    "                except Exception as e:\n",
    "                    self.exceptions[source, date, hour] = e\n",
    "                    row.append(np.nan)\n",
    "            return np.array(row)\n",
    "        \n",
    "    def crawl_source(self, source, source_link, variables, note=''):\n",
    "        self.wd = webdriver.Chrome()\n",
    "        self.source_arr = np.array([['Station', 'Date', 'Hour'] + [tup[0] for tup in variables]])\n",
    "        \n",
    "        if self.current_data_df is not None:\n",
    "            self.source_arr = np.concatenate([self.source_arr, self.current_data_df.values])\n",
    "        \n",
    "        columns = ['Station', 'Date', 'Hour'] + [tup[0] for tup in variables]\n",
    "        print('Downloading ', source)\n",
    "\n",
    "        try:\n",
    "            self.wd.get(source_link)\n",
    "            cal = self.wd.find_element_by_xpath('//*[@id=\"calender_archive\"]')\n",
    "\n",
    "            for date in self.dates:\n",
    "                self.set_date(date)\n",
    "                for hour in range(2,26):\n",
    "                    self.row = self.crawl_hour(source, date, hour)\n",
    "                    self.row = np.array([self.row])\n",
    "                    self.source_arr = np.concatenate([self.source_arr, self.row])\n",
    "\n",
    "            self.df = pd.DataFrame(data=self.source_arr)\n",
    "            self.df.columns = self.df.iloc[0]\n",
    "            self.df.drop(0, inplace=True)\n",
    "            self.df.to_pickle(f'weather_history_{source}_{str(self.date_start)}_{str(self.date_end)}_{note}.pickle')\n",
    "            print(source, ' done')\n",
    "                \n",
    "        except Exception as e:\n",
    "            print(source, ' failed')\n",
    "            self.exceptions[source] = e\n",
    "                \n",
    "        self.wd.close()"
   ]
  },
  {
   "cell_type": "code",
   "execution_count": 27,
   "metadata": {},
   "outputs": [],
   "source": [
    "sources = {\n",
    "#     'Kbely' : \"https://rp5.ru/Weather_archive_in_Prague,_Kbely\",\n",
    "    'Edinburgh': \"https://rp5.ru/Weather_archive_in_Edinburgh_(airport)\"\n",
    "#     'Vary' : \"https://rp5.ru/Weather_archive_in_Karlovy_Vary_(airport)\",\n",
    "#    'Budejce': 'https://rp5.ru/Weather_archive_in_Ceske_Budejovice,_Roznov',\n",
    "#    'Brno': 'https://rp5.ru/Weather_archive_in_Brno,_Turany_(airport)',\n",
    "#            'Prostejov': 'https://rp5.ru/Weather_archive_in_Prostejov_(airport)',\n",
    "#            'Ostrava': 'https://rp5.ru/Weather_archive_in_Ostrava,_Mosnov_(airport)',\n",
    "#            'Pardubice': 'https://rp5.ru/Weather_archive_in_Pardubice_(airport)',\n",
    "#            'Liberec': 'https://rp5.ru/Weather_archive_in_Liberec',\n",
    "#            'Usti':'https://rp5.ru/Weather_archive_in_Usti_nad_Labem',\n",
    "#             'Plzen': 'https://rp5.ru/Weather_archive_in_Plzen',\n",
    "#             'Holesov': 'https://rp5.ru/Weather_archive_in_Holesov',\n",
    "#         'Pribyslav': 'https://rp5.ru/Weather_archive_in_Pribyslav'\n",
    "          }"
   ]
  },
  {
   "cell_type": "code",
   "execution_count": 28,
   "metadata": {},
   "outputs": [],
   "source": [
    "start = dt.date(2020, 10, 5)\n",
    "end = dt.date(2020, 10, 10)\n",
    "\n",
    "parser = Weather_parser(date_start=start, date_end=end)\n",
    "\n",
    "variables = [('temperature', 2), ('precipitation', 24)]"
   ]
  },
  {
   "cell_type": "code",
   "execution_count": 29,
   "metadata": {},
   "outputs": [
    {
     "name": "stdout",
     "output_type": "stream",
     "text": [
      "Downloading  Edinburgh\n",
      "Edinburgh  done\n",
      "Wall time: 19.5 s\n"
     ]
    }
   ],
   "source": [
    "%%time\n",
    "\n",
    "parser.crawl_source(source = 'Edinburgh', source_link = sources['Edinburgh'], variables=variables)"
   ]
  },
  {
   "cell_type": "code",
   "execution_count": 31,
   "metadata": {},
   "outputs": [
    {
     "data": {
      "text/plain": [
       "<matplotlib.axes._subplots.AxesSubplot at 0x290a71395b0>"
      ]
     },
     "execution_count": 31,
     "metadata": {},
     "output_type": "execute_result"
    },
    {
     "data": {
      "image/png": "[encoded data removed]",
      "text/plain": [
       "<Figure size 432x288 with 1 Axes>"
      ]
     },
     "metadata": {
      "needs_background": "light"
     },
     "output_type": "display_data"
    }
   ],
   "source": [
    "df = pd.read_pickle('weather_history_Edinburgh_2020-10-05_2020-10-10_.pickle')\n",
    "df['Date'] = pd.DatetimeIndex(df['Date'])\n",
    "df['temperature'] = df['temperature'].astype(float)\n",
    "df.set_index('Date').groupby('Date').mean().plot()"
   ]
  },
  {
   "cell_type": "markdown",
   "metadata": {},
   "source": [
    "# Join pickles"
   ]
  },
  {
   "cell_type": "code",
   "execution_count": 6,
   "metadata": {},
   "outputs": [
    {
     "ename": "FileNotFoundError",
     "evalue": "[Errno 2] No such file or directory: 'weather_history_Kbely2019.pickle'",
     "output_type": "error",
     "traceback": [
      "\u001b[1;31m---------------------------------------------------------------------------\u001b[0m",
      "\u001b[1;31mFileNotFoundError\u001b[0m                         Traceback (most recent call last)",
      "\u001b[1;32m<ipython-input-6-d1a91eb39b71>\u001b[0m in \u001b[0;36m<module>\u001b[1;34m\u001b[0m\n\u001b[1;32m----> 1\u001b[1;33m \u001b[0mpd\u001b[0m\u001b[1;33m.\u001b[0m\u001b[0mread_pickle\u001b[0m\u001b[1;33m(\u001b[0m\u001b[1;34m'weather_history_Kbely2019.pickle'\u001b[0m\u001b[1;33m)\u001b[0m\u001b[1;33m.\u001b[0m\u001b[0mtail\u001b[0m\u001b[1;33m(\u001b[0m\u001b[1;33m)\u001b[0m\u001b[1;33m\u001b[0m\u001b[1;33m\u001b[0m\u001b[0m\n\u001b[0m",
      "\u001b[1;32m~\\Anaconda3\\lib\\site-packages\\pandas\\io\\pickle.py\u001b[0m in \u001b[0;36mread_pickle\u001b[1;34m(filepath_or_buffer, compression)\u001b[0m\n\u001b[0;32m    168\u001b[0m     \u001b[1;32mif\u001b[0m \u001b[1;32mnot\u001b[0m \u001b[0misinstance\u001b[0m\u001b[1;33m(\u001b[0m\u001b[0mfp_or_buf\u001b[0m\u001b[1;33m,\u001b[0m \u001b[0mstr\u001b[0m\u001b[1;33m)\u001b[0m \u001b[1;32mand\u001b[0m \u001b[0mcompression\u001b[0m \u001b[1;33m==\u001b[0m \u001b[1;34m\"infer\"\u001b[0m\u001b[1;33m:\u001b[0m\u001b[1;33m\u001b[0m\u001b[1;33m\u001b[0m\u001b[0m\n\u001b[0;32m    169\u001b[0m         \u001b[0mcompression\u001b[0m \u001b[1;33m=\u001b[0m \u001b[1;32mNone\u001b[0m\u001b[1;33m\u001b[0m\u001b[1;33m\u001b[0m\u001b[0m\n\u001b[1;32m--> 170\u001b[1;33m     \u001b[0mf\u001b[0m\u001b[1;33m,\u001b[0m \u001b[0mfh\u001b[0m \u001b[1;33m=\u001b[0m \u001b[0mget_handle\u001b[0m\u001b[1;33m(\u001b[0m\u001b[0mfp_or_buf\u001b[0m\u001b[1;33m,\u001b[0m \u001b[1;34m\"rb\"\u001b[0m\u001b[1;33m,\u001b[0m \u001b[0mcompression\u001b[0m\u001b[1;33m=\u001b[0m\u001b[0mcompression\u001b[0m\u001b[1;33m,\u001b[0m \u001b[0mis_text\u001b[0m\u001b[1;33m=\u001b[0m\u001b[1;32mFalse\u001b[0m\u001b[1;33m)\u001b[0m\u001b[1;33m\u001b[0m\u001b[1;33m\u001b[0m\u001b[0m\n\u001b[0m\u001b[0;32m    171\u001b[0m \u001b[1;33m\u001b[0m\u001b[0m\n\u001b[0;32m    172\u001b[0m     \u001b[1;31m# 1) try standard library Pickle\u001b[0m\u001b[1;33m\u001b[0m\u001b[1;33m\u001b[0m\u001b[1;33m\u001b[0m\u001b[0m\n",
      "\u001b[1;32m~\\Anaconda3\\lib\\site-packages\\pandas\\io\\common.py\u001b[0m in \u001b[0;36mget_handle\u001b[1;34m(path_or_buf, mode, encoding, compression, memory_map, is_text)\u001b[0m\n\u001b[0;32m    432\u001b[0m         \u001b[1;32melse\u001b[0m\u001b[1;33m:\u001b[0m\u001b[1;33m\u001b[0m\u001b[1;33m\u001b[0m\u001b[0m\n\u001b[0;32m    433\u001b[0m             \u001b[1;31m# Binary mode\u001b[0m\u001b[1;33m\u001b[0m\u001b[1;33m\u001b[0m\u001b[1;33m\u001b[0m\u001b[0m\n\u001b[1;32m--> 434\u001b[1;33m             \u001b[0mf\u001b[0m \u001b[1;33m=\u001b[0m \u001b[0mopen\u001b[0m\u001b[1;33m(\u001b[0m\u001b[0mpath_or_buf\u001b[0m\u001b[1;33m,\u001b[0m \u001b[0mmode\u001b[0m\u001b[1;33m)\u001b[0m\u001b[1;33m\u001b[0m\u001b[1;33m\u001b[0m\u001b[0m\n\u001b[0m\u001b[0;32m    435\u001b[0m         \u001b[0mhandles\u001b[0m\u001b[1;33m.\u001b[0m\u001b[0mappend\u001b[0m\u001b[1;33m(\u001b[0m\u001b[0mf\u001b[0m\u001b[1;33m)\u001b[0m\u001b[1;33m\u001b[0m\u001b[1;33m\u001b[0m\u001b[0m\n\u001b[0;32m    436\u001b[0m \u001b[1;33m\u001b[0m\u001b[0m\n",
      "\u001b[1;31mFileNotFoundError\u001b[0m: [Errno 2] No such file or directory: 'weather_history_Kbely2019.pickle'"
     ]
    }
   ],
   "source": [
    "pd.read_pickle('weather_history_Kbely2019.pickle').tail()"
   ]
  },
  {
   "cell_type": "code",
   "execution_count": null,
   "metadata": {},
   "outputs": [],
   "source": [
    "columns = ['Station', 'Date', 'Hour'] + [tup[0] for tup in variables]\n",
    "\n",
    "df = pd.DataFrame(columns=columns)\n",
    "\n",
    "for source in sources.keys():\n",
    "    try:\n",
    "        df = df.append(pd.read_pickle(f'weather_history_{source}.pickle'))\n",
    "    except TypeError:\n",
    "        print(source)"
   ]
  },
  {
   "cell_type": "code",
   "execution_count": null,
   "metadata": {},
   "outputs": [],
   "source": [
    "df.to_pickle('weather_history_all.pickle')"
   ]
  },
  {
   "cell_type": "code",
   "execution_count": null,
   "metadata": {},
   "outputs": [],
   "source": [
    "pd.read_pickle('weather_history_all.pickle').tail()"
   ]
  },
  {
   "cell_type": "code",
   "execution_count": null,
   "metadata": {},
   "outputs": [],
   "source": []
  },
  {
   "cell_type": "code",
   "execution_count": null,
   "metadata": {},
   "outputs": [],
   "source": []
  }
 ],
 "metadata": {
  "kernelspec": {
   "display_name": "Python 3",
   "language": "python",
   "name": "python3"
  },
  "language_info": {
   "codemirror_mode": {
    "name": "ipython",
    "version": 3
   },
   "file_extension": ".py",
   "mimetype": "text/x-python",
   "name": "python",
   "nbconvert_exporter": "python",
   "pygments_lexer": "ipython3",
   "version": "3.8.3"
  }
 },
 "nbformat": 4,
 "nbformat_minor": 4
}
